{
 "cells": [
  {
   "cell_type": "code",
   "execution_count": 3,
   "id": "b6d691d6",
   "metadata": {},
   "outputs": [],
   "source": [
    "import pandas as pd\n",
    "import numpy as np\n",
    "import matplotlib .pyplot as plt\n",
    "import seaborn as sns\n",
    "\n",
    "\n",
    "from sklearn.model_selection import train_test_split\n",
    "\n",
    "from sklearn import metrics\n",
    "from sklearn.svm import SVC\n",
    "\n",
    "from sklearn.linear_model import LogisticRegression"
   ]
  },
  {
   "cell_type": "code",
   "execution_count": 4,
   "id": "9a07684d",
   "metadata": {},
   "outputs": [],
   "source": [
    "from sklearn.preprocessing import StandardScaler"
   ]
  },
  {
   "cell_type": "code",
   "execution_count": 5,
   "id": "9679b0a4",
   "metadata": {},
   "outputs": [],
   "source": [
    "from xgboost import XGBClassifier"
   ]
  },
  {
   "cell_type": "code",
   "execution_count": 6,
   "id": "7465f5c2",
   "metadata": {},
   "outputs": [],
   "source": [
    "from imblearn.over_sampling import RandomOverSampler"
   ]
  },
  {
   "cell_type": "code",
   "execution_count": 7,
   "id": "8075d7dd",
   "metadata": {},
   "outputs": [],
   "source": [
    "import warnings\n",
    "warnings.filterwarnings(\"ignore\")"
   ]
  },
  {
   "cell_type": "markdown",
   "id": "195723af",
   "metadata": {},
   "source": [
    "## Read Dataset"
   ]
  },
  {
   "cell_type": "code",
   "execution_count": 8,
   "id": "c1827c67",
   "metadata": {},
   "outputs": [
    {
     "data": {
      "text/html": [
       "<div>\n",
       "<style scoped>\n",
       "    .dataframe tbody tr th:only-of-type {\n",
       "        vertical-align: middle;\n",
       "    }\n",
       "\n",
       "    .dataframe tbody tr th {\n",
       "        vertical-align: top;\n",
       "    }\n",
       "\n",
       "    .dataframe thead th {\n",
       "        text-align: right;\n",
       "    }\n",
       "</style>\n",
       "<table border=\"1\" class=\"dataframe\">\n",
       "  <thead>\n",
       "    <tr style=\"text-align: right;\">\n",
       "      <th></th>\n",
       "      <th>day</th>\n",
       "      <th>pressure</th>\n",
       "      <th>maxtemp</th>\n",
       "      <th>temparature</th>\n",
       "      <th>mintemp</th>\n",
       "      <th>dewpoint</th>\n",
       "      <th>humidity</th>\n",
       "      <th>cloud</th>\n",
       "      <th>rainfall</th>\n",
       "      <th>sunshine</th>\n",
       "      <th>winddirection</th>\n",
       "      <th>windspeed</th>\n",
       "    </tr>\n",
       "  </thead>\n",
       "  <tbody>\n",
       "    <tr>\n",
       "      <th>0</th>\n",
       "      <td>1</td>\n",
       "      <td>1025.9</td>\n",
       "      <td>19.9</td>\n",
       "      <td>18.3</td>\n",
       "      <td>16.8</td>\n",
       "      <td>13.1</td>\n",
       "      <td>72</td>\n",
       "      <td>49</td>\n",
       "      <td>yes</td>\n",
       "      <td>9.3</td>\n",
       "      <td>80.0</td>\n",
       "      <td>26.3</td>\n",
       "    </tr>\n",
       "    <tr>\n",
       "      <th>1</th>\n",
       "      <td>2</td>\n",
       "      <td>1022.0</td>\n",
       "      <td>21.7</td>\n",
       "      <td>18.9</td>\n",
       "      <td>17.2</td>\n",
       "      <td>15.6</td>\n",
       "      <td>81</td>\n",
       "      <td>83</td>\n",
       "      <td>yes</td>\n",
       "      <td>0.6</td>\n",
       "      <td>50.0</td>\n",
       "      <td>15.3</td>\n",
       "    </tr>\n",
       "    <tr>\n",
       "      <th>2</th>\n",
       "      <td>3</td>\n",
       "      <td>1019.7</td>\n",
       "      <td>20.3</td>\n",
       "      <td>19.3</td>\n",
       "      <td>18.0</td>\n",
       "      <td>18.4</td>\n",
       "      <td>95</td>\n",
       "      <td>91</td>\n",
       "      <td>yes</td>\n",
       "      <td>0.0</td>\n",
       "      <td>40.0</td>\n",
       "      <td>14.2</td>\n",
       "    </tr>\n",
       "    <tr>\n",
       "      <th>3</th>\n",
       "      <td>4</td>\n",
       "      <td>1018.9</td>\n",
       "      <td>22.3</td>\n",
       "      <td>20.6</td>\n",
       "      <td>19.1</td>\n",
       "      <td>18.8</td>\n",
       "      <td>90</td>\n",
       "      <td>88</td>\n",
       "      <td>yes</td>\n",
       "      <td>1.0</td>\n",
       "      <td>50.0</td>\n",
       "      <td>16.9</td>\n",
       "    </tr>\n",
       "    <tr>\n",
       "      <th>4</th>\n",
       "      <td>5</td>\n",
       "      <td>1015.9</td>\n",
       "      <td>21.3</td>\n",
       "      <td>20.7</td>\n",
       "      <td>20.2</td>\n",
       "      <td>19.9</td>\n",
       "      <td>95</td>\n",
       "      <td>81</td>\n",
       "      <td>yes</td>\n",
       "      <td>0.0</td>\n",
       "      <td>40.0</td>\n",
       "      <td>13.7</td>\n",
       "    </tr>\n",
       "    <tr>\n",
       "      <th>...</th>\n",
       "      <td>...</td>\n",
       "      <td>...</td>\n",
       "      <td>...</td>\n",
       "      <td>...</td>\n",
       "      <td>...</td>\n",
       "      <td>...</td>\n",
       "      <td>...</td>\n",
       "      <td>...</td>\n",
       "      <td>...</td>\n",
       "      <td>...</td>\n",
       "      <td>...</td>\n",
       "      <td>...</td>\n",
       "    </tr>\n",
       "    <tr>\n",
       "      <th>361</th>\n",
       "      <td>27</td>\n",
       "      <td>1022.7</td>\n",
       "      <td>18.8</td>\n",
       "      <td>17.7</td>\n",
       "      <td>16.9</td>\n",
       "      <td>15.0</td>\n",
       "      <td>84</td>\n",
       "      <td>90</td>\n",
       "      <td>yes</td>\n",
       "      <td>0.0</td>\n",
       "      <td>30.0</td>\n",
       "      <td>18.4</td>\n",
       "    </tr>\n",
       "    <tr>\n",
       "      <th>362</th>\n",
       "      <td>28</td>\n",
       "      <td>1026.6</td>\n",
       "      <td>18.6</td>\n",
       "      <td>17.3</td>\n",
       "      <td>16.3</td>\n",
       "      <td>12.8</td>\n",
       "      <td>75</td>\n",
       "      <td>85</td>\n",
       "      <td>yes</td>\n",
       "      <td>1.0</td>\n",
       "      <td>20.0</td>\n",
       "      <td>25.9</td>\n",
       "    </tr>\n",
       "    <tr>\n",
       "      <th>363</th>\n",
       "      <td>29</td>\n",
       "      <td>1025.9</td>\n",
       "      <td>18.9</td>\n",
       "      <td>17.7</td>\n",
       "      <td>16.4</td>\n",
       "      <td>13.3</td>\n",
       "      <td>75</td>\n",
       "      <td>78</td>\n",
       "      <td>yes</td>\n",
       "      <td>4.6</td>\n",
       "      <td>70.0</td>\n",
       "      <td>33.4</td>\n",
       "    </tr>\n",
       "    <tr>\n",
       "      <th>364</th>\n",
       "      <td>30</td>\n",
       "      <td>1025.3</td>\n",
       "      <td>19.2</td>\n",
       "      <td>17.3</td>\n",
       "      <td>15.2</td>\n",
       "      <td>13.3</td>\n",
       "      <td>78</td>\n",
       "      <td>86</td>\n",
       "      <td>yes</td>\n",
       "      <td>1.2</td>\n",
       "      <td>20.0</td>\n",
       "      <td>20.9</td>\n",
       "    </tr>\n",
       "    <tr>\n",
       "      <th>365</th>\n",
       "      <td>31</td>\n",
       "      <td>1026.4</td>\n",
       "      <td>20.5</td>\n",
       "      <td>17.8</td>\n",
       "      <td>15.5</td>\n",
       "      <td>13.0</td>\n",
       "      <td>74</td>\n",
       "      <td>66</td>\n",
       "      <td>no</td>\n",
       "      <td>5.7</td>\n",
       "      <td>20.0</td>\n",
       "      <td>23.3</td>\n",
       "    </tr>\n",
       "  </tbody>\n",
       "</table>\n",
       "<p>366 rows × 12 columns</p>\n",
       "</div>"
      ],
      "text/plain": [
       "     day  pressure   maxtemp  temparature  mintemp  dewpoint  humidity   \\\n",
       "0      1     1025.9     19.9         18.3     16.8      13.1         72   \n",
       "1      2     1022.0     21.7         18.9     17.2      15.6         81   \n",
       "2      3     1019.7     20.3         19.3     18.0      18.4         95   \n",
       "3      4     1018.9     22.3         20.6     19.1      18.8         90   \n",
       "4      5     1015.9     21.3         20.7     20.2      19.9         95   \n",
       "..   ...        ...      ...          ...      ...       ...        ...   \n",
       "361   27     1022.7     18.8         17.7     16.9      15.0         84   \n",
       "362   28     1026.6     18.6         17.3     16.3      12.8         75   \n",
       "363   29     1025.9     18.9         17.7     16.4      13.3         75   \n",
       "364   30     1025.3     19.2         17.3     15.2      13.3         78   \n",
       "365   31     1026.4     20.5         17.8     15.5      13.0         74   \n",
       "\n",
       "     cloud  rainfall  sunshine           winddirection  windspeed  \n",
       "0        49      yes       9.3                    80.0       26.3  \n",
       "1        83      yes       0.6                    50.0       15.3  \n",
       "2        91      yes       0.0                    40.0       14.2  \n",
       "3        88      yes       1.0                    50.0       16.9  \n",
       "4        81      yes       0.0                    40.0       13.7  \n",
       "..      ...      ...       ...                     ...        ...  \n",
       "361      90      yes       0.0                    30.0       18.4  \n",
       "362      85      yes       1.0                    20.0       25.9  \n",
       "363      78      yes       4.6                    70.0       33.4  \n",
       "364      86      yes       1.2                    20.0       20.9  \n",
       "365      66       no       5.7                    20.0       23.3  \n",
       "\n",
       "[366 rows x 12 columns]"
      ]
     },
     "execution_count": 8,
     "metadata": {},
     "output_type": "execute_result"
    }
   ],
   "source": [
    "rain = pd.read_csv(\"Rainfall.csv\")\n",
    "rain"
   ]
  },
  {
   "cell_type": "code",
   "execution_count": 9,
   "id": "e96b1a11",
   "metadata": {},
   "outputs": [
    {
     "data": {
      "text/plain": [
       "(366, 12)"
      ]
     },
     "execution_count": 9,
     "metadata": {},
     "output_type": "execute_result"
    }
   ],
   "source": [
    "rain.shape"
   ]
  },
  {
   "cell_type": "code",
   "execution_count": 10,
   "id": "2fc13fe8",
   "metadata": {},
   "outputs": [
    {
     "name": "stdout",
     "output_type": "stream",
     "text": [
      "<class 'pandas.core.frame.DataFrame'>\n",
      "RangeIndex: 366 entries, 0 to 365\n",
      "Data columns (total 12 columns):\n",
      " #   Column                  Non-Null Count  Dtype  \n",
      "---  ------                  --------------  -----  \n",
      " 0   day                     366 non-null    int64  \n",
      " 1   pressure                366 non-null    float64\n",
      " 2   maxtemp                 366 non-null    float64\n",
      " 3   temparature             366 non-null    float64\n",
      " 4   mintemp                 366 non-null    float64\n",
      " 5   dewpoint                366 non-null    float64\n",
      " 6   humidity                366 non-null    int64  \n",
      " 7   cloud                   366 non-null    int64  \n",
      " 8   rainfall                366 non-null    object \n",
      " 9   sunshine                366 non-null    float64\n",
      " 10           winddirection  365 non-null    float64\n",
      " 11  windspeed               365 non-null    float64\n",
      "dtypes: float64(8), int64(3), object(1)\n",
      "memory usage: 34.4+ KB\n"
     ]
    }
   ],
   "source": [
    "rain.info()"
   ]
  },
  {
   "cell_type": "code",
   "execution_count": 11,
   "id": "6abe97e0",
   "metadata": {},
   "outputs": [
    {
     "data": {
      "text/html": [
       "<div>\n",
       "<style scoped>\n",
       "    .dataframe tbody tr th:only-of-type {\n",
       "        vertical-align: middle;\n",
       "    }\n",
       "\n",
       "    .dataframe tbody tr th {\n",
       "        vertical-align: top;\n",
       "    }\n",
       "\n",
       "    .dataframe thead th {\n",
       "        text-align: right;\n",
       "    }\n",
       "</style>\n",
       "<table border=\"1\" class=\"dataframe\">\n",
       "  <thead>\n",
       "    <tr style=\"text-align: right;\">\n",
       "      <th></th>\n",
       "      <th>count</th>\n",
       "      <th>mean</th>\n",
       "      <th>std</th>\n",
       "      <th>min</th>\n",
       "      <th>25%</th>\n",
       "      <th>50%</th>\n",
       "      <th>75%</th>\n",
       "      <th>max</th>\n",
       "    </tr>\n",
       "  </thead>\n",
       "  <tbody>\n",
       "    <tr>\n",
       "      <th>day</th>\n",
       "      <td>366.0</td>\n",
       "      <td>15.756831</td>\n",
       "      <td>8.823592</td>\n",
       "      <td>1.0</td>\n",
       "      <td>8.000</td>\n",
       "      <td>16.00</td>\n",
       "      <td>23.000</td>\n",
       "      <td>31.0</td>\n",
       "    </tr>\n",
       "    <tr>\n",
       "      <th>pressure</th>\n",
       "      <td>366.0</td>\n",
       "      <td>1013.742623</td>\n",
       "      <td>6.414776</td>\n",
       "      <td>998.5</td>\n",
       "      <td>1008.500</td>\n",
       "      <td>1013.00</td>\n",
       "      <td>1018.100</td>\n",
       "      <td>1034.6</td>\n",
       "    </tr>\n",
       "    <tr>\n",
       "      <th>maxtemp</th>\n",
       "      <td>366.0</td>\n",
       "      <td>26.191257</td>\n",
       "      <td>5.978343</td>\n",
       "      <td>7.1</td>\n",
       "      <td>21.200</td>\n",
       "      <td>27.75</td>\n",
       "      <td>31.200</td>\n",
       "      <td>36.3</td>\n",
       "    </tr>\n",
       "    <tr>\n",
       "      <th>temparature</th>\n",
       "      <td>366.0</td>\n",
       "      <td>23.747268</td>\n",
       "      <td>5.632813</td>\n",
       "      <td>4.9</td>\n",
       "      <td>18.825</td>\n",
       "      <td>25.45</td>\n",
       "      <td>28.600</td>\n",
       "      <td>32.4</td>\n",
       "    </tr>\n",
       "    <tr>\n",
       "      <th>mintemp</th>\n",
       "      <td>366.0</td>\n",
       "      <td>21.894536</td>\n",
       "      <td>5.594153</td>\n",
       "      <td>3.1</td>\n",
       "      <td>17.125</td>\n",
       "      <td>23.70</td>\n",
       "      <td>26.575</td>\n",
       "      <td>30.0</td>\n",
       "    </tr>\n",
       "    <tr>\n",
       "      <th>dewpoint</th>\n",
       "      <td>366.0</td>\n",
       "      <td>19.989071</td>\n",
       "      <td>5.997021</td>\n",
       "      <td>-0.4</td>\n",
       "      <td>16.125</td>\n",
       "      <td>21.95</td>\n",
       "      <td>25.000</td>\n",
       "      <td>26.7</td>\n",
       "    </tr>\n",
       "    <tr>\n",
       "      <th>humidity</th>\n",
       "      <td>366.0</td>\n",
       "      <td>80.177596</td>\n",
       "      <td>10.062470</td>\n",
       "      <td>36.0</td>\n",
       "      <td>75.000</td>\n",
       "      <td>80.50</td>\n",
       "      <td>87.000</td>\n",
       "      <td>98.0</td>\n",
       "    </tr>\n",
       "    <tr>\n",
       "      <th>cloud</th>\n",
       "      <td>366.0</td>\n",
       "      <td>71.128415</td>\n",
       "      <td>21.798012</td>\n",
       "      <td>0.0</td>\n",
       "      <td>58.000</td>\n",
       "      <td>80.00</td>\n",
       "      <td>88.000</td>\n",
       "      <td>100.0</td>\n",
       "    </tr>\n",
       "    <tr>\n",
       "      <th>sunshine</th>\n",
       "      <td>366.0</td>\n",
       "      <td>4.419399</td>\n",
       "      <td>3.934398</td>\n",
       "      <td>0.0</td>\n",
       "      <td>0.500</td>\n",
       "      <td>3.50</td>\n",
       "      <td>8.200</td>\n",
       "      <td>12.1</td>\n",
       "    </tr>\n",
       "    <tr>\n",
       "      <th>winddirection</th>\n",
       "      <td>365.0</td>\n",
       "      <td>101.506849</td>\n",
       "      <td>81.723724</td>\n",
       "      <td>10.0</td>\n",
       "      <td>40.000</td>\n",
       "      <td>70.00</td>\n",
       "      <td>190.000</td>\n",
       "      <td>350.0</td>\n",
       "    </tr>\n",
       "    <tr>\n",
       "      <th>windspeed</th>\n",
       "      <td>365.0</td>\n",
       "      <td>21.536986</td>\n",
       "      <td>10.069712</td>\n",
       "      <td>4.4</td>\n",
       "      <td>13.700</td>\n",
       "      <td>20.50</td>\n",
       "      <td>27.900</td>\n",
       "      <td>59.5</td>\n",
       "    </tr>\n",
       "  </tbody>\n",
       "</table>\n",
       "</div>"
      ],
      "text/plain": [
       "                        count         mean        std    min       25%  \\\n",
       "day                     366.0    15.756831   8.823592    1.0     8.000   \n",
       "pressure                366.0  1013.742623   6.414776  998.5  1008.500   \n",
       "maxtemp                 366.0    26.191257   5.978343    7.1    21.200   \n",
       "temparature             366.0    23.747268   5.632813    4.9    18.825   \n",
       "mintemp                 366.0    21.894536   5.594153    3.1    17.125   \n",
       "dewpoint                366.0    19.989071   5.997021   -0.4    16.125   \n",
       "humidity                366.0    80.177596  10.062470   36.0    75.000   \n",
       "cloud                   366.0    71.128415  21.798012    0.0    58.000   \n",
       "sunshine                366.0     4.419399   3.934398    0.0     0.500   \n",
       "         winddirection  365.0   101.506849  81.723724   10.0    40.000   \n",
       "windspeed               365.0    21.536986  10.069712    4.4    13.700   \n",
       "\n",
       "                            50%       75%     max  \n",
       "day                       16.00    23.000    31.0  \n",
       "pressure                1013.00  1018.100  1034.6  \n",
       "maxtemp                   27.75    31.200    36.3  \n",
       "temparature               25.45    28.600    32.4  \n",
       "mintemp                   23.70    26.575    30.0  \n",
       "dewpoint                  21.95    25.000    26.7  \n",
       "humidity                  80.50    87.000    98.0  \n",
       "cloud                     80.00    88.000   100.0  \n",
       "sunshine                   3.50     8.200    12.1  \n",
       "         winddirection    70.00   190.000   350.0  \n",
       "windspeed                 20.50    27.900    59.5  "
      ]
     },
     "execution_count": 11,
     "metadata": {},
     "output_type": "execute_result"
    }
   ],
   "source": [
    "rain.describe().T"
   ]
  },
  {
   "cell_type": "markdown",
   "id": "3e337cda",
   "metadata": {},
   "source": [
    "## Data Cleaning"
   ]
  },
  {
   "cell_type": "code",
   "execution_count": 12,
   "id": "517da796",
   "metadata": {},
   "outputs": [
    {
     "data": {
      "text/plain": [
       "day                       0\n",
       "pressure                  0\n",
       "maxtemp                   0\n",
       "temparature               0\n",
       "mintemp                   0\n",
       "dewpoint                  0\n",
       "humidity                  0\n",
       "cloud                     0\n",
       "rainfall                  0\n",
       "sunshine                  0\n",
       "         winddirection    1\n",
       "windspeed                 1\n",
       "dtype: int64"
      ]
     },
     "execution_count": 12,
     "metadata": {},
     "output_type": "execute_result"
    }
   ],
   "source": [
    "rain.isnull().sum()"
   ]
  },
  {
   "cell_type": "code",
   "execution_count": 13,
   "id": "53cec1db",
   "metadata": {},
   "outputs": [
    {
     "data": {
      "text/plain": [
       "Index(['day', 'pressure ', 'maxtemp', 'temparature', 'mintemp', 'dewpoint',\n",
       "       'humidity ', 'cloud ', 'rainfall', 'sunshine', '         winddirection',\n",
       "       'windspeed'],\n",
       "      dtype='object')"
      ]
     },
     "execution_count": 13,
     "metadata": {},
     "output_type": "execute_result"
    }
   ],
   "source": [
    "rain.columns"
   ]
  },
  {
   "cell_type": "code",
   "execution_count": 14,
   "id": "073cc0a6",
   "metadata": {},
   "outputs": [
    {
     "data": {
      "text/plain": [
       "Index(['day', 'pressure', 'maxtemp', 'temparature', 'mintemp', 'dewpoint',\n",
       "       'humidity', 'cloud', 'rainfall', 'sunshine', 'winddirection',\n",
       "       'windspeed'],\n",
       "      dtype='object')"
      ]
     },
     "execution_count": 14,
     "metadata": {},
     "output_type": "execute_result"
    }
   ],
   "source": [
    "# remove unnecessary spaces from columns name\n",
    "rain.rename(str.strip,axis = 'columns',inplace = True)\n",
    "rain.columns"
   ]
  },
  {
   "cell_type": "code",
   "execution_count": 15,
   "id": "ac9f849c",
   "metadata": {},
   "outputs": [
    {
     "data": {
      "text/plain": [
       "0"
      ]
     },
     "execution_count": 15,
     "metadata": {},
     "output_type": "execute_result"
    }
   ],
   "source": [
    "# null value imputation\n",
    "for col in rain.columns:\n",
    "    #checking if the column contains any null values\n",
    "    if rain[col].isnull().sum() > 0:\n",
    "        val = rain[col].mean()\n",
    "        rain[col] = rain[col].fillna(val)\n",
    "rain.isnull().sum().sum()"
   ]
  },
  {
   "cell_type": "markdown",
   "id": "1440d6c5",
   "metadata": {},
   "source": [
    "## EDA"
   ]
  },
  {
   "cell_type": "code",
   "execution_count": 16,
   "id": "4676595a",
   "metadata": {},
   "outputs": [
    {
     "data": {
      "image/png": "[encoded data removed]",
      "text/plain": [
       "<Figure size 432x288 with 1 Axes>"
      ]
     },
     "metadata": {},
     "output_type": "display_data"
    }
   ],
   "source": [
    "plt.pie(rain['rainfall'].value_counts().values,\n",
    "       labels = rain['rainfall'].value_counts().index,\n",
    "       autopct = '%1.1f%%')\n",
    "plt.show()"
   ]
  },
  {
   "cell_type": "code",
   "execution_count": 17,
   "id": "ff28c9b7",
   "metadata": {},
   "outputs": [
    {
     "data": {
      "text/html": [
       "<div>\n",
       "<style scoped>\n",
       "    .dataframe tbody tr th:only-of-type {\n",
       "        vertical-align: middle;\n",
       "    }\n",
       "\n",
       "    .dataframe tbody tr th {\n",
       "        vertical-align: top;\n",
       "    }\n",
       "\n",
       "    .dataframe thead th {\n",
       "        text-align: right;\n",
       "    }\n",
       "</style>\n",
       "<table border=\"1\" class=\"dataframe\">\n",
       "  <thead>\n",
       "    <tr style=\"text-align: right;\">\n",
       "      <th>rainfall</th>\n",
       "      <th>no</th>\n",
       "      <th>yes</th>\n",
       "    </tr>\n",
       "  </thead>\n",
       "  <tbody>\n",
       "    <tr>\n",
       "      <th>day</th>\n",
       "      <td>15.623932</td>\n",
       "      <td>15.819277</td>\n",
       "    </tr>\n",
       "    <tr>\n",
       "      <th>pressure</th>\n",
       "      <td>1014.576923</td>\n",
       "      <td>1013.350602</td>\n",
       "    </tr>\n",
       "    <tr>\n",
       "      <th>maxtemp</th>\n",
       "      <td>27.070940</td>\n",
       "      <td>25.777912</td>\n",
       "    </tr>\n",
       "    <tr>\n",
       "      <th>temparature</th>\n",
       "      <td>24.053846</td>\n",
       "      <td>23.603213</td>\n",
       "    </tr>\n",
       "    <tr>\n",
       "      <th>mintemp</th>\n",
       "      <td>21.957265</td>\n",
       "      <td>21.865060</td>\n",
       "    </tr>\n",
       "    <tr>\n",
       "      <th>dewpoint</th>\n",
       "      <td>18.766667</td>\n",
       "      <td>20.563454</td>\n",
       "    </tr>\n",
       "    <tr>\n",
       "      <th>humidity</th>\n",
       "      <td>73.000000</td>\n",
       "      <td>83.550201</td>\n",
       "    </tr>\n",
       "    <tr>\n",
       "      <th>cloud</th>\n",
       "      <td>51.256410</td>\n",
       "      <td>80.465863</td>\n",
       "    </tr>\n",
       "    <tr>\n",
       "      <th>sunshine</th>\n",
       "      <td>7.586325</td>\n",
       "      <td>2.931325</td>\n",
       "    </tr>\n",
       "    <tr>\n",
       "      <th>winddirection</th>\n",
       "      <td>103.076923</td>\n",
       "      <td>100.769104</td>\n",
       "    </tr>\n",
       "    <tr>\n",
       "      <th>windspeed</th>\n",
       "      <td>19.275214</td>\n",
       "      <td>22.599747</td>\n",
       "    </tr>\n",
       "  </tbody>\n",
       "</table>\n",
       "</div>"
      ],
      "text/plain": [
       "rainfall                no          yes\n",
       "day              15.623932    15.819277\n",
       "pressure       1014.576923  1013.350602\n",
       "maxtemp          27.070940    25.777912\n",
       "temparature      24.053846    23.603213\n",
       "mintemp          21.957265    21.865060\n",
       "dewpoint         18.766667    20.563454\n",
       "humidity         73.000000    83.550201\n",
       "cloud            51.256410    80.465863\n",
       "sunshine          7.586325     2.931325\n",
       "winddirection   103.076923   100.769104\n",
       "windspeed        19.275214    22.599747"
      ]
     },
     "execution_count": 17,
     "metadata": {},
     "output_type": "execute_result"
    }
   ],
   "source": [
    "rain.groupby('rainfall').mean().T\n"
   ]
  },
  {
   "cell_type": "markdown",
   "id": "22065108",
   "metadata": {},
   "source": [
    "- **Maxtemp is relatively lower on days of rainfall.**\n",
    "\n",
    "- **Dewpoint value is higher on days of rainfall.**\n",
    "\n",
    "- **Humidity is high on the days when rainfall is expected.**\n",
    "\n",
    "- **Obviously, clouds must be there for rainfall.**\n",
    "\n",
    "- **Sunshine is also less on days of rainfall.**\n",
    "\n",
    "- **Windspeed is higher on days of rainfall.**"
   ]
  },
  {
   "cell_type": "code",
   "execution_count": 18,
   "id": "a46b91c2",
   "metadata": {},
   "outputs": [
    {
     "name": "stdout",
     "output_type": "stream",
     "text": [
      "['pressure', 'maxtemp', 'temparature', 'mintemp', 'dewpoint', 'humidity', 'cloud', 'sunshine', 'winddirection', 'windspeed']\n"
     ]
    }
   ],
   "source": [
    "features = list(rain.select_dtypes(include = np.number).columns)\n",
    "features.remove('day')\n",
    "print(features)"
   ]
  },
  {
   "cell_type": "code",
   "execution_count": 19,
   "id": "f48b7811",
   "metadata": {},
   "outputs": [
    {
     "data": {
      "image/png": "[encoded data removed]",
      "text/plain": [
       "<Figure size 1080x720 with 10 Axes>"
      ]
     },
     "metadata": {
      "needs_background": "light"
     },
     "output_type": "display_data"
    }
   ],
   "source": [
    "# The distribution of the continuous features given in the dataset.\n",
    "plt.subplots(figsize=(15,10))\n",
    "\n",
    "for i, col in enumerate(features):\n",
    "  plt.subplot(3,4, i + 1)\n",
    "  sns.distplot(rain[col])\n",
    "plt.tight_layout()\n",
    "plt.show()"
   ]
  },
  {
   "cell_type": "code",
   "execution_count": 20,
   "id": "e6fb7436",
   "metadata": {},
   "outputs": [
    {
     "data": {
      "image/png": "[encoded data removed]",
      "text/plain": [
       "<Figure size 1080x720 with 10 Axes>"
      ]
     },
     "metadata": {
      "needs_background": "light"
     },
     "output_type": "display_data"
    }
   ],
   "source": [
    "# Boxplots for the continuous variable to detect the outliers present in the data.\n",
    "plt.subplots(figsize=(15,10))\n",
    "\n",
    "for i, col in enumerate(features):\n",
    "  plt.subplot(3,4, i + 1)\n",
    "  sns.boxplot(rain[col])\n",
    "plt.tight_layout()\n",
    "plt.show()"
   ]
  },
  {
   "cell_type": "markdown",
   "id": "ff600026",
   "metadata": {},
   "source": [
    "There are outliers in the data but sadly we do not have much data so, we cannot remove this."
   ]
  },
  {
   "cell_type": "code",
   "execution_count": 21,
   "id": "dfca7db8",
   "metadata": {},
   "outputs": [],
   "source": [
    "rain.replace({'yes':1, 'no':0}, inplace=True)"
   ]
  },
  {
   "cell_type": "code",
   "execution_count": 22,
   "id": "c991db59",
   "metadata": {},
   "outputs": [
    {
     "data": {
      "image/png": "[encoded data removed]",
      "text/plain": [
       "<Figure size 720x720 with 1 Axes>"
      ]
     },
     "metadata": {
      "needs_background": "light"
     },
     "output_type": "display_data"
    }
   ],
   "source": [
    "plt.figure(figsize=(10,10))\n",
    "sns.heatmap(rain.corr() > 0.8,\n",
    "           annot=True,\n",
    "           cbar=False)\n",
    "plt.show()"
   ]
  },
  {
   "cell_type": "code",
   "execution_count": 23,
   "id": "accaafa3",
   "metadata": {},
   "outputs": [],
   "source": [
    "rain.drop(['maxtemp', 'mintemp'], axis=1, inplace=True)\n"
   ]
  },
  {
   "cell_type": "markdown",
   "id": "03ad5c4a",
   "metadata": {},
   "source": [
    "Now we will remove the highly correlated features ‘maxtemp’ and ‘mintemp’. But we will not remove temp or dewpoint because temp and dewpoint provide distinct information regarding the weather and atmospheric conditions."
   ]
  },
  {
   "cell_type": "markdown",
   "id": "a9371d5e",
   "metadata": {},
   "source": [
    "## Model Training"
   ]
  },
  {
   "cell_type": "code",
   "execution_count": 24,
   "id": "2334e419",
   "metadata": {},
   "outputs": [],
   "source": [
    "features = rain.drop(['day', 'rainfall'], axis=1)\n",
    "target = rain.rainfall"
   ]
  },
  {
   "cell_type": "code",
   "execution_count": 25,
   "id": "53aaf212",
   "metadata": {},
   "outputs": [],
   "source": [
    "X_train, X_val,Y_train, Y_val = train_test_split(features,target,test_size=0.2,stratify=target,random_state=2)"
   ]
  },
  {
   "cell_type": "code",
   "execution_count": 26,
   "id": "724addfd",
   "metadata": {},
   "outputs": [],
   "source": [
    "# As the data was highly imbalanced we will\n",
    "# balance it by adding repetitive rows of minority class.\n",
    "ros = RandomOverSampler(sampling_strategy='minority',\n",
    "                        random_state=22)\n",
    "X, Y = ros.fit_resample(X_train, Y_train)"
   ]
  },
  {
   "cell_type": "code",
   "execution_count": 27,
   "id": "e085c437",
   "metadata": {},
   "outputs": [],
   "source": [
    "# Normalizing the features for stable and fast training.\n",
    "scaler = StandardScaler()\n",
    "X = scaler.fit_transform(X)\n",
    "X_val = scaler.transform(X_val)"
   ]
  },
  {
   "cell_type": "code",
   "execution_count": 28,
   "id": "80fd91f7",
   "metadata": {},
   "outputs": [
    {
     "name": "stdout",
     "output_type": "stream",
     "text": [
      "LogisticRegression() :\n",
      "Training Accuracy :  0.8893209767430116\n",
      "Validation Accuracy :  0.8966666666666667\n",
      "\n",
      "XGBClassifier() :\n",
      "Training Accuracy :  0.9999999999999999\n",
      "Validation Accuracy :  0.8391666666666666\n",
      "\n",
      "SVC() :\n",
      "Training Accuracy :  0.9026413474407211\n",
      "Validation Accuracy :  0.8858333333333333\n",
      "\n"
     ]
    }
   ],
   "source": [
    "models = [LogisticRegression(), XGBClassifier(), SVC(kernel='rbf', probability=True)]\n",
    "\n",
    "for model in models:\n",
    "    model.fit(X, Y)\n",
    "    print(f'{model.__class__.__name__}() :')\n",
    "    \n",
    "    train_preds = model.predict_proba(X)\n",
    "    print('Training Accuracy : ', metrics.roc_auc_score(Y, train_preds[:, 1]))\n",
    "    \n",
    "    val_preds = model.predict_proba(X_val)\n",
    "    print('Validation Accuracy : ', metrics.roc_auc_score(Y_val, val_preds[:, 1]))\n",
    "    print()\n"
   ]
  },
  {
   "cell_type": "markdown",
   "id": "14303e30",
   "metadata": {},
   "source": [
    "we can say that Logistic Regression and support vector classifier are satisfactory as the gap between the training and the validation accuracy is low. "
   ]
  },
  {
   "cell_type": "markdown",
   "id": "2401d0b6",
   "metadata": {},
   "source": [
    "## Model Evaluation"
   ]
  },
  {
   "cell_type": "code",
   "execution_count": 29,
   "id": "ac278a36",
   "metadata": {},
   "outputs": [
    {
     "data": {
      "image/png": "[encoded data removed]",
      "text/plain": [
       "<Figure size 432x288 with 2 Axes>"
      ]
     },
     "metadata": {
      "needs_background": "light"
     },
     "output_type": "display_data"
    }
   ],
   "source": [
    " from sklearn.metrics import ConfusionMatrixDisplay\n",
    "\n",
    "\n",
    "ConfusionMatrixDisplay.from_estimator(models[2], X_val, Y_val)\n",
    "plt.show()\n"
   ]
  },
  {
   "cell_type": "code",
   "execution_count": 30,
   "id": "f8f07cba",
   "metadata": {},
   "outputs": [
    {
     "name": "stdout",
     "output_type": "stream",
     "text": [
      "              precision    recall  f1-score   support\n",
      "\n",
      "           0       0.84      0.67      0.74        24\n",
      "           1       0.85      0.94      0.90        50\n",
      "\n",
      "    accuracy                           0.85        74\n",
      "   macro avg       0.85      0.80      0.82        74\n",
      "weighted avg       0.85      0.85      0.85        74\n",
      "\n"
     ]
    }
   ],
   "source": [
    "print(metrics.classification_report(Y_val,\n",
    "                                    models[2].predict(X_val)))"
   ]
  },
  {
   "cell_type": "markdown",
   "id": "511fbd47",
   "metadata": {},
   "source": [
    "- **Logistic Regression appears to be the most stable model, with good generalization and balanced performance.**\n",
    "- **XGBoost might need tuning (like adjusting n_estimators, max_depth, or adding regularization) to avoid overfitting.**\n",
    "- **SVC performs relatively well but slightly underperforms compared to Logistic Regression in validation.**"
   ]
  },
  {
   "cell_type": "code",
   "execution_count": 31,
   "id": "6357d3ec",
   "metadata": {},
   "outputs": [
    {
     "name": "stdout",
     "output_type": "stream",
     "text": [
      "Logistic Regression Cross-Validation Results:\n",
      "Mean ROC-AUC: 0.8794\n",
      "Standard Deviation: 0.0284\n",
      "Cross-Validation AUC Scores for each fold: [0.835625   0.916875   0.88875    0.86025641 0.89551282]\n",
      "--------------------------------------------------\n",
      "XGBoost Cross-Validation Results:\n",
      "Mean ROC-AUC: 0.9180\n",
      "Standard Deviation: 0.0329\n",
      "Cross-Validation AUC Scores for each fold: [0.928125   0.955      0.93875    0.90833333 0.85961538]\n",
      "--------------------------------------------------\n",
      "SVM Cross-Validation Results:\n",
      "Mean ROC-AUC: 0.8703\n",
      "Standard Deviation: 0.0219\n",
      "Cross-Validation AUC Scores for each fold: [0.854375   0.9025     0.885625   0.86794872 0.84102564]\n",
      "--------------------------------------------------\n"
     ]
    }
   ],
   "source": [
    "from sklearn.model_selection import StratifiedKFold, cross_val_score\n",
    "\n",
    "# Define StratifiedKFold (to maintain class distribution across folds)\n",
    "kf = StratifiedKFold(n_splits=5, shuffle=True, random_state=42)\n",
    "\n",
    "# Models to evaluate\n",
    "models = {\n",
    "    'Logistic Regression': LogisticRegression(),\n",
    "    'XGBoost': XGBClassifier(),\n",
    "    'SVM': SVC(kernel='rbf', probability=True)\n",
    "}\n",
    "\n",
    "# Perform K-Fold Cross-Validation for each model\n",
    "for name, model in models.items():\n",
    "    print(f'{name} Cross-Validation Results:')\n",
    "    \n",
    "    # Use cross_val_score to calculate ROC-AUC score\n",
    "    cv_results = cross_val_score(model, X, Y, cv=kf, scoring='roc_auc')\n",
    "    \n",
    "    print(f'Mean ROC-AUC: {np.mean(cv_results):.4f}')\n",
    "    print(f'Standard Deviation: {np.std(cv_results):.4f}')\n",
    "    print('Cross-Validation AUC Scores for each fold:', cv_results)\n",
    "    print('-' * 50)\n"
   ]
  },
  {
   "cell_type": "code",
   "execution_count": 32,
   "id": "701be34a",
   "metadata": {},
   "outputs": [
    {
     "data": {
      "image/png": "[encoded data removed]",
      "text/plain": [
       "<Figure size 432x288 with 1 Axes>"
      ]
     },
     "metadata": {
      "needs_background": "light"
     },
     "output_type": "display_data"
    },
    {
     "data": {
      "image/png": "[encoded data removed]",
      "text/plain": [
       "<Figure size 720x504 with 1 Axes>"
      ]
     },
     "metadata": {
      "needs_background": "light"
     },
     "output_type": "display_data"
    }
   ],
   "source": [
    "\n",
    "# Assuming X, Y, X_val, Y_val are already defined\n",
    "from sklearn.metrics import roc_curve, auc\n",
    "import matplotlib.pyplot as plt\n",
    "import xgboost as xgb\n",
    "\n",
    "# Train XGBoost Model (XGBClassifier)\n",
    "xgb_model = XGBClassifier()\n",
    "xgb_model.fit(X, Y)\n",
    "\n",
    "# Feature Importance for XGBoost\n",
    "xgb.plot_importance(xgb_model, max_num_features=10)  # Top 10 important features\n",
    "plt.title('Feature Importance - XGBoost')\n",
    "plt.show()\n",
    "\n",
    "# Plot ROC Curve for all models\n",
    "models = {\n",
    "    'Logistic Regression': LogisticRegression(),\n",
    "    'XGBoost': XGBClassifier(),\n",
    "    'SVM': SVC(kernel='rbf', probability=True)\n",
    "}\n",
    "\n",
    "plt.figure(figsize=(10, 7))\n",
    "for name, model in models.items():\n",
    "    model.fit(X, Y)\n",
    "    val_preds = model.predict_proba(X_val)[:, 1]  # Get the probabilities for class 1\n",
    "    \n",
    "    # Calculate ROC curve\n",
    "    fpr, tpr, _ = roc_curve(Y_val, val_preds)\n",
    "    roc_auc = auc(fpr, tpr)\n",
    "    \n",
    "    # Plot ROC curve\n",
    "    plt.plot(fpr, tpr, label=f'{name} (AUC = {roc_auc:.2f})')\n",
    "\n",
    "# Plot settings\n",
    "plt.plot([0, 1], [0, 1], 'k--')  # Diagonal line for reference\n",
    "plt.xlim([0.0, 1.0])\n",
    "plt.ylim([0.0, 1.05])\n",
    "plt.xlabel('False Positive Rate')\n",
    "plt.ylabel('True Positive Rate')\n",
    "plt.title('ROC Curve Comparison')\n",
    "plt.legend(loc='lower right')\n",
    "plt.show()\n"
   ]
  },
  {
   "cell_type": "markdown",
   "id": "112c56b2",
   "metadata": {},
   "source": [
    "- **Logistic Regression has the highest AUC of 0.90, indicating it performs the best among the three models. This suggests it has a good balance between sensitivity (true positive rate) and specificity (1 - false positive rate)**\n",
    "- **SVM follows closely with an AUC of 0.89, showing it also performs well, but slightly less effectively than Logistic Regression.**\n",
    "- **XGBoost has the lowest AUC of 0.84, indicating it is the least effective model in this comparison. This could suggest that it may not be capturing the underlying patterns in the data as well as the other models.**"
   ]
  },
  {
   "cell_type": "markdown",
   "id": "48bf713d",
   "metadata": {},
   "source": [
    "Model Selection: Based on the AUC values, Logistic Regression would be the preferred model for this classification task, followed closely by SVM."
   ]
  },
  {
   "cell_type": "code",
   "execution_count": null,
   "id": "fc1f2496",
   "metadata": {},
   "outputs": [],
   "source": []
  },
  {
   "cell_type": "code",
   "execution_count": 33,
   "id": "6c46986e",
   "metadata": {},
   "outputs": [
    {
     "name": "stdout",
     "output_type": "stream",
     "text": [
      "Best parameters for Logistic Regression: {'C': 1, 'max_iter': 100, 'solver': 'liblinear'}\n"
     ]
    }
   ],
   "source": [
    "from sklearn.model_selection import GridSearchCV\n",
    "from sklearn.linear_model import LogisticRegression\n",
    "from imblearn.over_sampling import RandomOverSampler\n",
    "\n",
    "# Assuming X and Y are defined (your features and target)\n",
    "# Handle class imbalance\n",
    "ros = RandomOverSampler(random_state=42)\n",
    "X_resampled, Y_resampled = ros.fit_resample(X, Y)\n",
    "\n",
    "# Split the data into training and testing sets\n",
    "from sklearn.model_selection import train_test_split\n",
    "X_train, X_test, Y_train, Y_test = train_test_split(X_resampled, Y_resampled, test_size=0.2, random_state=42)\n",
    "\n",
    "# Define the parameter grid for Logistic Regression\n",
    "param_grid_lr = {\n",
    "    'C': [0.1, 1, 10],         # Inverse of regularization strength\n",
    "    'solver': ['newton-cg', 'lbfgs', 'liblinear', 'sag', 'saga'],  # Optimization algorithms\n",
    "    'max_iter': [100, 200]     # Maximum number of iterations\n",
    "}\n",
    "\n",
    "# Perform GridSearchCV\n",
    "grid_search_lr = GridSearchCV(LogisticRegression(), param_grid_lr, cv=5)\n",
    "grid_search_lr.fit(X_train, Y_train)\n",
    "\n",
    "# Get the best model\n",
    "best_lr_model = grid_search_lr.best_estimator_\n",
    "\n",
    "# Optionally print the best parameters\n",
    "print(\"Best parameters for Logistic Regression:\", grid_search_lr.best_params_)\n"
   ]
  },
  {
   "cell_type": "code",
   "execution_count": 1,
   "id": "1ec9d7ad",
   "metadata": {},
   "outputs": [
    {
     "name": "stderr",
     "output_type": "stream",
     "text": [
      "C:\\Users\\91993\\anaconda3\\lib\\site-packages\\sklearn\\linear_model\\_logistic.py:469: ConvergenceWarning: lbfgs failed to converge (status=1):\n",
      "STOP: TOTAL NO. of ITERATIONS REACHED LIMIT.\n",
      "\n",
      "Increase the number of iterations (max_iter) or scale the data as shown in:\n",
      "    https://scikit-learn.org/stable/modules/preprocessing.html\n",
      "Please also refer to the documentation for alternative solver options:\n",
      "    https://scikit-learn.org/stable/modules/linear_model.html#logistic-regression\n",
      "  n_iter_i = _check_optimize_result(\n"
     ]
    },
    {
     "name": "stdout",
     "output_type": "stream",
     "text": [
      "Running on local URL:  http://127.0.0.1:7860\n",
      "\n",
      "To create a public link, set `share=True` in `launch()`.\n"
     ]
    },
    {
     "data": {
      "text/html": [
       "<div><iframe src=\"http://127.0.0.1:7860/\" width=\"100%\" height=\"500\" allow=\"autoplay; camera; microphone; clipboard-read; clipboard-write;\" frameborder=\"0\" allowfullscreen></iframe></div>"
      ],
      "text/plain": [
       "<IPython.core.display.HTML object>"
      ]
     },
     "metadata": {},
     "output_type": "display_data"
    },
    {
     "data": {
      "text/plain": []
     },
     "execution_count": 1,
     "metadata": {},
     "output_type": "execute_result"
    }
   ],
   "source": [
    "import gradio as gr\n",
    "import pandas as pd\n",
    "import numpy as np\n",
    "from sklearn.linear_model import LogisticRegression\n",
    "from imblearn.over_sampling import RandomOverSampler\n",
    "\n",
    "# Generating synthetic data (replace this with your actual data)\n",
    "X = pd.DataFrame({\n",
    "    'pressure': np.random.uniform(1000.0, 2000.0, 400),\n",
    "    'temparature': np.random.uniform(5.0, 40.0, 400),\n",
    "    'dewpoint': np.random.uniform(1.0, 25.0, 400),\n",
    "    'humidity': np.random.randint(0, 100, 400),\n",
    "    'cloud': np.random.randint(0, 100, 400),\n",
    "    'sunshine': np.random.uniform(0.0, 12.0, 400),\n",
    "    'winddirection': np.random.uniform(0.0, 360.0, 400),\n",
    "    'windspeed': np.random.uniform(0.0, 50.0, 400),\n",
    "})\n",
    "Y = np.random.choice(['yes', 'no'], size=400)\n",
    "\n",
    "# Handle class imbalance and train the model\n",
    "def train_logistic_model():\n",
    "    ros = RandomOverSampler(random_state=42)\n",
    "    X_resampled, Y_resampled = ros.fit_resample(X, Y)\n",
    "    \n",
    "    model = LogisticRegression()\n",
    "    model.fit(X_resampled, Y_resampled)\n",
    "    \n",
    "    return model\n",
    "\n",
    "# Load the Logistic Regression model\n",
    "logistic_model = train_logistic_model()\n",
    "\n",
    "# Prediction function\n",
    "def predict_rainfall(pressure, temparature, dewpoint, humidity, cloud, sunshine, winddirection, windspeed):\n",
    "    # Create a DataFrame with user inputs\n",
    "    input_data = pd.DataFrame({\n",
    "        'pressure': [pressure],\n",
    "        'temparature': [temparature],\n",
    "        'dewpoint': [dewpoint],\n",
    "        'humidity': [humidity],\n",
    "        'cloud': [cloud],\n",
    "        'sunshine': [sunshine],\n",
    "        'winddirection': [winddirection],\n",
    "        'windspeed': [windspeed]\n",
    "    })\n",
    "    \n",
    "    # Make prediction\n",
    "    prediction = logistic_model.predict(input_data)\n",
    "    prediction_proba = logistic_model.predict_proba(input_data)\n",
    "    \n",
    "    return f'Will it rain?: {prediction[0]}', f'Prediction Probability: {prediction_proba[0].round(2)}'\n",
    "\n",
    "# Gradio Interface\n",
    "iface = gr.Interface(\n",
    "    fn=predict_rainfall,\n",
    "    inputs=[\n",
    "        gr.Slider(1000.0, 1200.0, value=1015.0, label='Pressure'),  # Updated range for pressure\n",
    "        gr.Slider(5.0, 40.0, value=18.0, label='Temperature'),       # Updated range for temperature\n",
    "        gr.Slider(1.0, 25.0, value=12.0, label='Dewpoint'),          # Updated range for dewpoint\n",
    "        gr.Slider(0, 100, value=80, label='Humidity'),                # Humidity remains the same\n",
    "        gr.Slider(0, 100, value=60, label='Cloud'),                   # Cloud remains the same\n",
    "        gr.Slider(0.0, 12.0, value=5.0, label='Sunshine'),            # Sunshine remains the same\n",
    "        gr.Slider(0.0, 360.0, value=180.0, label='Wind Direction'),   # Wind direction remains the same\n",
    "        gr.Slider(0.0, 50.0, value=20.0, label='Windspeed'),          # Windspeed remains the same\n",
    "    ],\n",
    "    outputs=[\n",
    "        gr.Textbox(label='Rainfall Prediction'),\n",
    "        gr.Textbox(label='Prediction Probability')\n",
    "    ],\n",
    "    title='Rainfall Prediction App (Logistic Regression)',\n",
    "    description='Enter the weather parameters to predict if it will rain.'\n",
    ")\n",
    "\n",
    "# Launch the Gradio app\n",
    "iface.launch()\n"
   ]
  },
  {
   "cell_type": "code",
   "execution_count": 36,
   "id": "f3bcb242",
   "metadata": {},
   "outputs": [
    {
     "data": {
      "text/html": [
       "<div>\n",
       "<style scoped>\n",
       "    .dataframe tbody tr th:only-of-type {\n",
       "        vertical-align: middle;\n",
       "    }\n",
       "\n",
       "    .dataframe tbody tr th {\n",
       "        vertical-align: top;\n",
       "    }\n",
       "\n",
       "    .dataframe thead th {\n",
       "        text-align: right;\n",
       "    }\n",
       "</style>\n",
       "<table border=\"1\" class=\"dataframe\">\n",
       "  <thead>\n",
       "    <tr style=\"text-align: right;\">\n",
       "      <th></th>\n",
       "      <th>day</th>\n",
       "      <th>pressure</th>\n",
       "      <th>temparature</th>\n",
       "      <th>dewpoint</th>\n",
       "      <th>humidity</th>\n",
       "      <th>cloud</th>\n",
       "      <th>rainfall</th>\n",
       "      <th>sunshine</th>\n",
       "      <th>winddirection</th>\n",
       "      <th>windspeed</th>\n",
       "    </tr>\n",
       "  </thead>\n",
       "  <tbody>\n",
       "    <tr>\n",
       "      <th>0</th>\n",
       "      <td>1</td>\n",
       "      <td>1025.9</td>\n",
       "      <td>18.3</td>\n",
       "      <td>13.1</td>\n",
       "      <td>72</td>\n",
       "      <td>49</td>\n",
       "      <td>1</td>\n",
       "      <td>9.3</td>\n",
       "      <td>80.0</td>\n",
       "      <td>26.3</td>\n",
       "    </tr>\n",
       "    <tr>\n",
       "      <th>1</th>\n",
       "      <td>2</td>\n",
       "      <td>1022.0</td>\n",
       "      <td>18.9</td>\n",
       "      <td>15.6</td>\n",
       "      <td>81</td>\n",
       "      <td>83</td>\n",
       "      <td>1</td>\n",
       "      <td>0.6</td>\n",
       "      <td>50.0</td>\n",
       "      <td>15.3</td>\n",
       "    </tr>\n",
       "    <tr>\n",
       "      <th>2</th>\n",
       "      <td>3</td>\n",
       "      <td>1019.7</td>\n",
       "      <td>19.3</td>\n",
       "      <td>18.4</td>\n",
       "      <td>95</td>\n",
       "      <td>91</td>\n",
       "      <td>1</td>\n",
       "      <td>0.0</td>\n",
       "      <td>40.0</td>\n",
       "      <td>14.2</td>\n",
       "    </tr>\n",
       "    <tr>\n",
       "      <th>3</th>\n",
       "      <td>4</td>\n",
       "      <td>1018.9</td>\n",
       "      <td>20.6</td>\n",
       "      <td>18.8</td>\n",
       "      <td>90</td>\n",
       "      <td>88</td>\n",
       "      <td>1</td>\n",
       "      <td>1.0</td>\n",
       "      <td>50.0</td>\n",
       "      <td>16.9</td>\n",
       "    </tr>\n",
       "    <tr>\n",
       "      <th>4</th>\n",
       "      <td>5</td>\n",
       "      <td>1015.9</td>\n",
       "      <td>20.7</td>\n",
       "      <td>19.9</td>\n",
       "      <td>95</td>\n",
       "      <td>81</td>\n",
       "      <td>1</td>\n",
       "      <td>0.0</td>\n",
       "      <td>40.0</td>\n",
       "      <td>13.7</td>\n",
       "    </tr>\n",
       "    <tr>\n",
       "      <th>5</th>\n",
       "      <td>6</td>\n",
       "      <td>1018.8</td>\n",
       "      <td>20.9</td>\n",
       "      <td>18.0</td>\n",
       "      <td>84</td>\n",
       "      <td>51</td>\n",
       "      <td>1</td>\n",
       "      <td>7.7</td>\n",
       "      <td>20.0</td>\n",
       "      <td>14.5</td>\n",
       "    </tr>\n",
       "    <tr>\n",
       "      <th>6</th>\n",
       "      <td>7</td>\n",
       "      <td>1021.8</td>\n",
       "      <td>18.8</td>\n",
       "      <td>15.0</td>\n",
       "      <td>79</td>\n",
       "      <td>56</td>\n",
       "      <td>0</td>\n",
       "      <td>3.4</td>\n",
       "      <td>30.0</td>\n",
       "      <td>21.5</td>\n",
       "    </tr>\n",
       "    <tr>\n",
       "      <th>7</th>\n",
       "      <td>8</td>\n",
       "      <td>1020.8</td>\n",
       "      <td>18.4</td>\n",
       "      <td>14.4</td>\n",
       "      <td>78</td>\n",
       "      <td>28</td>\n",
       "      <td>0</td>\n",
       "      <td>7.7</td>\n",
       "      <td>60.0</td>\n",
       "      <td>14.3</td>\n",
       "    </tr>\n",
       "    <tr>\n",
       "      <th>8</th>\n",
       "      <td>9</td>\n",
       "      <td>1020.6</td>\n",
       "      <td>18.1</td>\n",
       "      <td>14.3</td>\n",
       "      <td>78</td>\n",
       "      <td>79</td>\n",
       "      <td>0</td>\n",
       "      <td>3.3</td>\n",
       "      <td>70.0</td>\n",
       "      <td>39.3</td>\n",
       "    </tr>\n",
       "    <tr>\n",
       "      <th>9</th>\n",
       "      <td>10</td>\n",
       "      <td>1017.5</td>\n",
       "      <td>18.0</td>\n",
       "      <td>15.5</td>\n",
       "      <td>85</td>\n",
       "      <td>91</td>\n",
       "      <td>1</td>\n",
       "      <td>0.0</td>\n",
       "      <td>70.0</td>\n",
       "      <td>37.7</td>\n",
       "    </tr>\n",
       "  </tbody>\n",
       "</table>\n",
       "</div>"
      ],
      "text/plain": [
       "   day  pressure  temparature  dewpoint  humidity  cloud  rainfall  sunshine  \\\n",
       "0    1    1025.9         18.3      13.1        72     49         1       9.3   \n",
       "1    2    1022.0         18.9      15.6        81     83         1       0.6   \n",
       "2    3    1019.7         19.3      18.4        95     91         1       0.0   \n",
       "3    4    1018.9         20.6      18.8        90     88         1       1.0   \n",
       "4    5    1015.9         20.7      19.9        95     81         1       0.0   \n",
       "5    6    1018.8         20.9      18.0        84     51         1       7.7   \n",
       "6    7    1021.8         18.8      15.0        79     56         0       3.4   \n",
       "7    8    1020.8         18.4      14.4        78     28         0       7.7   \n",
       "8    9    1020.6         18.1      14.3        78     79         0       3.3   \n",
       "9   10    1017.5         18.0      15.5        85     91         1       0.0   \n",
       "\n",
       "   winddirection  windspeed  \n",
       "0           80.0       26.3  \n",
       "1           50.0       15.3  \n",
       "2           40.0       14.2  \n",
       "3           50.0       16.9  \n",
       "4           40.0       13.7  \n",
       "5           20.0       14.5  \n",
       "6           30.0       21.5  \n",
       "7           60.0       14.3  \n",
       "8           70.0       39.3  \n",
       "9           70.0       37.7  "
      ]
     },
     "execution_count": 36,
     "metadata": {},
     "output_type": "execute_result"
    }
   ],
   "source": [
    "rain.head(10)"
   ]
  },
  {
   "cell_type": "code",
   "execution_count": 39,
   "id": "1702ce25",
   "metadata": {},
   "outputs": [
    {
     "name": "stdout",
     "output_type": "stream",
     "text": [
      "Running on local URL:  http://127.0.0.1:7863\n",
      "\n",
      "To create a public link, set `share=True` in `launch()`.\n"
     ]
    },
    {
     "data": {
      "text/html": [
       "<div><iframe src=\"http://127.0.0.1:7863/\" width=\"100%\" height=\"500\" allow=\"autoplay; camera; microphone; clipboard-read; clipboard-write;\" frameborder=\"0\" allowfullscreen></iframe></div>"
      ],
      "text/plain": [
       "<IPython.core.display.HTML object>"
      ]
     },
     "metadata": {},
     "output_type": "display_data"
    },
    {
     "data": {
      "text/plain": []
     },
     "execution_count": 39,
     "metadata": {},
     "output_type": "execute_result"
    }
   ],
   "source": [
    "import gradio as gr\n",
    "import pandas as pd\n",
    "import numpy as np\n",
    "from imblearn.over_sampling import RandomOverSampler\n",
    "from xgboost import XGBClassifier\n",
    "\n",
    "# Generating synthetic data (replace this with your actual data)\n",
    "X = pd.DataFrame({\n",
    "    'pressure': np.random.uniform(1000.0, 1200.0, 400),\n",
    "    'temparature': np.random.uniform(5.0, 40.0, 400),\n",
    "    'dewpoint': np.random.uniform(1.0, 25.0, 400),\n",
    "    'humidity': np.random.randint(0, 100, 400),\n",
    "    'cloud': np.random.randint(0, 100, 400),\n",
    "    'sunshine': np.random.uniform(0.0, 12.0, 400),\n",
    "    'winddirection': np.random.uniform(0.0, 360.0, 400),\n",
    "    'windspeed': np.random.uniform(0.0, 50.0, 400),\n",
    "})\n",
    "Y = np.random.choice(['yes', 'no'], size=400)\n",
    "\n",
    "# Convert Y to binary format (1 for 'yes' and 0 for 'no')\n",
    "Y_binary = np.where(Y == 'yes', 1, 0)\n",
    "\n",
    "# Handle class imbalance and train the XGBoost model\n",
    "def train_xgboost_model():\n",
    "    ros = RandomOverSampler(random_state=42)\n",
    "    X_resampled, Y_resampled = ros.fit_resample(X, Y_binary)\n",
    "    \n",
    "    model = XGBClassifier(use_label_encoder=False, eval_metric='logloss')\n",
    "    model.fit(X_resampled, Y_resampled)\n",
    "    \n",
    "    return model\n",
    "\n",
    "# Load the XGBoost model\n",
    "xgboost_model = train_xgboost_model()\n",
    "\n",
    "# Prediction function\n",
    "def predict_rainfall(pressure, temparature, dewpoint, humidity, cloud, sunshine, winddirection, windspeed):\n",
    "    # Create a DataFrame with user inputs\n",
    "    input_data = pd.DataFrame({\n",
    "        'pressure': [pressure],\n",
    "        'temparature': [temparature],\n",
    "        'dewpoint': [dewpoint],\n",
    "        'humidity': [humidity],\n",
    "        'cloud': [cloud],\n",
    "        'sunshine': [sunshine],\n",
    "        'winddirection': [winddirection],\n",
    "        'windspeed': [windspeed]\n",
    "    })\n",
    "    \n",
    "    # Make prediction\n",
    "    prediction = xgboost_model.predict(input_data)\n",
    "    prediction_proba = xgboost_model.predict_proba(input_data)\n",
    "    \n",
    "    # Convert prediction back to 'yes' or 'no'\n",
    "    rain_prediction = 'yes' if prediction[0] == 1 else 'no'\n",
    "    \n",
    "    return f'Will it rain?: {rain_prediction}', f'Prediction Probability: {prediction_proba[0].round(2)}'\n",
    "\n",
    "# Gradio Interface\n",
    "iface = gr.Interface(\n",
    "    fn=predict_rainfall,\n",
    "    inputs=[\n",
    "        gr.Slider(1000.0, 1200.0, value=1015.0, label='Pressure'),\n",
    "        gr.Slider(5.0, 40.0, value=18.0, label='Temperature'),\n",
    "        gr.Slider(1.0, 25.0, value=12.0, label='Dewpoint'),\n",
    "        gr.Slider(0, 100, value=80, label='Humidity'),\n",
    "        gr.Slider(0, 100, value=60, label='Cloud'),\n",
    "        gr.Slider(0.0, 12.0, value=5.0, label='Sunshine'),\n",
    "        gr.Slider(0.0, 360.0, value=180.0, label='Wind Direction'),\n",
    "        gr.Slider(0.0, 50.0, value=20.0, label='Windspeed'),\n",
    "    ],\n",
    "    outputs=[\n",
    "        gr.Textbox(label='Rainfall Prediction'),\n",
    "        gr.Textbox(label='Prediction Probability')\n",
    "    ],\n",
    "    title='Rainfall Prediction App (XGBoost)',\n",
    "    description='Enter the weather parameters to predict if it will rain.'\n",
    ")\n",
    "\n",
    "# Launch the Gradio app\n",
    "iface.launch()\n"
   ]
  },
  {
   "cell_type": "code",
   "execution_count": 38,
   "id": "cdd29893",
   "metadata": {},
   "outputs": [
    {
     "name": "stdout",
     "output_type": "stream",
     "text": [
      "Best parameters for XGBoost: {'colsample_bytree': 1.0, 'gamma': 0.1, 'learning_rate': 0.01, 'max_depth': 7, 'n_estimators': 50, 'subsample': 1.0}\n"
     ]
    }
   ],
   "source": [
    "from sklearn.model_selection import GridSearchCV, train_test_split\n",
    "from imblearn.over_sampling import RandomOverSampler\n",
    "from xgboost import XGBClassifier\n",
    "\n",
    "# Assuming X and Y are defined (your features and target)\n",
    "# Convert Y to binary format if needed (0 for 'no' and 1 for 'yes')\n",
    "Y_binary = np.where(Y == 'yes', 1, 0)\n",
    "\n",
    "# Handle class imbalance\n",
    "ros = RandomOverSampler(random_state=42)\n",
    "X_resampled, Y_resampled = ros.fit_resample(X, Y_binary)\n",
    "\n",
    "# Split the data into training and testing sets\n",
    "X_train, X_test, Y_train, Y_test = train_test_split(X_resampled, Y_resampled, test_size=0.2, random_state=42)\n",
    "\n",
    "# Define the parameter grid for XGBoost\n",
    "param_grid_xgb = {\n",
    "    'n_estimators': [50, 100, 200],         # Number of trees in the ensemble\n",
    "    'learning_rate': [0.01, 0.1, 0.2],      # Step size shrinkage\n",
    "    'max_depth': [3, 5, 7],                 # Maximum depth of a tree\n",
    "    'subsample': [0.8, 1.0],                # Fraction of samples used for training each tree\n",
    "    'colsample_bytree': [0.8, 1.0],         # Fraction of features used for training each tree\n",
    "    'gamma': [0, 0.1, 0.2],                 # Minimum loss reduction to make a split\n",
    "}\n",
    "\n",
    "# Perform GridSearchCV\n",
    "grid_search_xgb = GridSearchCV(XGBClassifier(use_label_encoder=False, eval_metric='logloss'), param_grid_xgb, cv=5, n_jobs=-1)\n",
    "grid_search_xgb.fit(X_train, Y_train)\n",
    "\n",
    "# Get the best model\n",
    "best_xgb_model = grid_search_xgb.best_estimator_\n",
    "\n",
    "# Optionally print the best parameters\n",
    "print(\"Best parameters for XGBoost:\", grid_search_xgb.best_params_)\n"
   ]
  },
  {
   "cell_type": "code",
   "execution_count": null,
   "id": "efafc024",
   "metadata": {},
   "outputs": [],
   "source": []
  }
 ],
 "metadata": {
  "kernelspec": {
   "display_name": "Python 3 (ipykernel)",
   "language": "python",
   "name": "python3"
  },
  "language_info": {
   "codemirror_mode": {
    "name": "ipython",
    "version": 3
   },
   "file_extension": ".py",
   "mimetype": "text/x-python",
   "name": "python",
   "nbconvert_exporter": "python",
   "pygments_lexer": "ipython3",
   "version": "3.9.12"
  }
 },
 "nbformat": 4,
 "nbformat_minor": 5
}
